{
 "cells": [
  {
   "cell_type": "code",
   "execution_count": null,
   "metadata": {},
   "outputs": [],
   "source": [
    "import pandas as pd\n",
    "import numpy as np\n",
    "import matplotlib.pyplot as plt\n",
    "from matplotlib.ticker import FuncFormatter\n",
    "from scipy.interpolate import griddata\n",
    "from matplotlib.colors import ListedColormap\n",
    "from matplotlib.colors import LinearSegmentedColormap\n",
    "\n",
    "# Function to multiply ticks by 1000\n",
    "def adjust_x_axis(x, pos):\n",
    "    return \"{:.2f}\".format(round((x * -1000) -128, 2))\n",
    "\n",
    "# Function to multiply ticks by 1000\n",
    "def adjust_y_axis(x, pos):\n",
    "    return \"{:.2f}\".format(round((x * 1000) - 127, 2))"
   ]
  },
  {
   "cell_type": "code",
   "execution_count": null,
   "metadata": {},
   "outputs": [],
   "source": [
    "# File names\n",
    "inpt1 = input('Please input the analysisM1 detA file: ')\n",
    "inpt2 = input('Please input the analysisM1 detB file: ')\n",
    "inpt3 = input('Please input the master file: ')\n",
    "\n",
    "df_A = pd.read_csv(inpt1)\n",
    "df_B = pd.read_csv(inpt2)\n",
    "\n",
    "df_master = pd.read_csv(inpt3)\n",
    "df_master = df_master.iloc[:, 1:]\n",
    "\n",
    "# Find XRD peaks (detA - detB)\n",
    "df_diff = abs(df_A - df_B)\n",
    "df_param = df_master.iloc[:, [0, 1, 2, 3, 4, 5]]\n",
    "\n",
    "# Merge everything (i.e: df_result == 'MASTER FILE')\n",
    "df_result = pd.concat([df_param, df_diff], axis=1)\n",
    "df_result.columns = [col if idx < 6 else 'Δ_' + col for idx, col in enumerate(df_result.columns)]"
   ]
  },
  {
   "cell_type": "code",
   "execution_count": null,
   "metadata": {},
   "outputs": [],
   "source": [
    "### MAGNESIUM ####\n",
    "# Magnesium XRD map\n",
    "x = df_result['x'].values\n",
    "y = df_result['y'].values\n",
    "z = df_result['Δ_Mg peak area'].values\n",
    "\n",
    "f, ax = plt.subplots(figsize=(14, 10))\n",
    "\n",
    "Nx = 129\n",
    "Ny = 129\n",
    "NL = 25\n",
    "\n",
    "# Assuming 'x', 'y', and 'magnitude' are your data arrays\n",
    "xv = np.linspace(min(x), max(x), Nx)\n",
    "yv = np.linspace(min(y), max(y), Ny)\n",
    "xq, yq = np.meshgrid(xv, yv)\n",
    "\n",
    "maggrid = griddata((x.flatten(), y.flatten()), z.flatten(), (xq, yq), method='linear');\n",
    "\n",
    "contourf_plot = plt.contourf(xq, yq, maggrid, NL, cmap='nipy_spectral');\n",
    "\n",
    "plt.text(-0.129, 0.134, str('M1'), color='red', size=50)\n",
    "\n",
    "# Add colorbars\n",
    "colorbar_contourf = plt.colorbar(contourf_plot, ax=ax, label='Contourf Colorbar')\n",
    "label_text = r'$\\Delta$ Mg peak'\n",
    "colorbar_contourf.set_label(label_text, size=40, labelpad=10)\n",
    "colorbar_contourf.ax.tick_params(labelsize=12)  # Adjust tick label size\n",
    "\n",
    "# Axes and labels Settings\n",
    "ax.xaxis.set_major_formatter(FuncFormatter(adjust_x_axis))\n",
    "ax.yaxis.set_major_formatter(FuncFormatter(adjust_y_axis))\n",
    "ax.tick_params(axis='both', colors='black', labelsize=16, pad=10)\n",
    "\n",
    "plt.xlim(-0.128, -0.143);\n",
    "plt.ylim(0.127, 0.135);\n",
    "plt.xlabel('x coordinate [mm]', size=20, labelpad=20);\n",
    "plt.ylabel('y coordinate [mm]', size=20, labelpad=20);\n",
    "legend = plt.legend(prop={'size':20}, title='Dourbes - all PMCs')\n",
    "legend.get_title().set_fontsize('25')\n",
    "plt.grid(alpha=0.2)\n",
    "\n",
    "# Save Mg XRD map (SVG/JPG)\n",
    "plt.savefig('Mg_XRDmap(M1).svg', format='svg', bbox_inches='tight')\n",
    "plt.savefig('Mg_XRDmap(M1).jpg', format='jpg', bbox_inches='tight')"
   ]
  }
 ],
 "metadata": {
  "kernelspec": {
   "display_name": "Python 3",
   "language": "python",
   "name": "python3"
  },
  "language_info": {
   "codemirror_mode": {
    "name": "ipython",
    "version": 3
   },
   "file_extension": ".py",
   "mimetype": "text/x-python",
   "name": "python",
   "nbconvert_exporter": "python",
   "pygments_lexer": "ipython3",
   "version": "3.8.5"
  }
 },
 "nbformat": 4,
 "nbformat_minor": 4
}
